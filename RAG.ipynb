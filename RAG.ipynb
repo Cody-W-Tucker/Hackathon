{
 "cells": [
  {
   "cell_type": "code",
   "execution_count": 1,
   "metadata": {},
   "outputs": [],
   "source": [
    "import os\n",
    "from dotenv import load_dotenv\n",
    "\n",
    "load_dotenv()\n",
    "\n",
    "# Load the API key from the .env file\n",
    "OPENAI_API_KEY = os.getenv(\"OPENAI_API_KEY\")\n",
    "\n",
    "from langchain_openai.embeddings import OpenAIEmbeddings\n",
    "embeddings = OpenAIEmbeddings(model=\"text-embedding-3-large\")\n",
    "\n",
    "from langchain_chroma import Chroma\n",
    "\n",
    "vector_store = Chroma(\n",
    "    collection_name=\"obsidian\",\n",
    "    embedding_function=embeddings,\n",
    "    persist_directory=\"./chroma\",\n",
    ")"
   ]
  },
  {
   "cell_type": "code",
   "execution_count": 19,
   "metadata": {},
   "outputs": [
    {
     "data": {
      "text/markdown": [
       "I approach my life and work with a mindset that combines structure, adaptability, and a deep curiosity for learning. Balancing multiple responsibilities requires a clear focus, and I find that technology plays a critical role in enhancing my productivity. Embracing tools like Linux and maintaining a homelab not only streamlines my workflow but also fuels my passion for continual growth and development. This technological enthusiasm isn't just about efficiency; it's about creating systems that support my long-term goals and open up new avenues for exploration.\n",
       "\n",
       "I prioritize tasks by regularly listing action items, which helps me align my daily activities with broader objectives. This structured approach ensures that I remain focused on what truly matters while maintaining a degree of flexibility to adapt to changes. However, I recognize the need to reflect on tasks that often get postponed, as these may either be less important or require a different strategy to tackle effectively.\n",
       "\n",
       "Supporting others is another significant aspect of my life. My desire to help friends through their challenges is rooted in empathy and social awareness, but it's essential to balance this with my own needs to maintain emotional well-being. Relationships are a two-way street, and nurturing them requires conscious effort and self-care.\n",
       "\n",
       "Regarding business, I am acutely aware of seasonal fluctuations and the need for proactive planning. Exploring side projects or diversifying income streams can cushion against slower periods, and collaborating with others could provide additional stability and growth opportunities. My interest in technology could be leveraged further in my business model, offering innovative services that benefit others while generating income.\n",
       "\n",
       "The integration of an Artificial Intelligence assistant into my knowledge base is a testament to my commitment to continuous learning and personal development. This innovation allows me to focus more on thought development and exploration, capturing and synthesizing ideas into more complex concepts. I view this process as essential to my intellectual growth and contribution to the world.\n",
       "\n",
       "Ultimately, my work is driven by a desire to make a meaningful impact. By aligning my interests with a greater purpose, I find fulfillment and motivation in addressing specific needs and solving problems for others. Reflecting on core principles and seeking guidance from mentors helps me stay grounded and inspired. Organizing my thoughts, priorities, and daily routines creates a sense of structure and clarity, empowering me to pursue my goals with purpose and intention."
      ],
      "text/plain": [
       "<IPython.core.display.Markdown object>"
      ]
     },
     "metadata": {},
     "output_type": "display_data"
    }
   ],
   "source": [
    "from langchain_openai import ChatOpenAI\n",
    "\n",
    "llm = ChatOpenAI(model=\"gpt-4o\")\n",
    "\n",
    "from langchain_core.prompts import ChatPromptTemplate\n",
    "from langchain_core.runnables import RunnablePassthrough\n",
    "\n",
    "# Print the response in markdown format\n",
    "from IPython.display import Markdown\n",
    "\n",
    "message = \"\"\"\n",
    "Using provided context and questions, synthesize a first-person response from the author. The context consists of semantically split snippets from their journal, reflecting the author's deepest thoughts. The answers should be crafted to implicitly reflect Piaget's focus on cognitive development and adaptation, Nietzsche's emphasis on personal growth and self-realization, and Jordan Peterson's narrative-focused approach from \"Maps of Meaning\" without explicitly mentioning these frameworks. The synthesized response should be comprehensive, cohesive, and suitable for a living document intended to provide personalized assistance.\n",
    "{question}\n",
    "\n",
    "Rules: Don't mention people's names or sensitive information. Generalize the context to ensure privacy.\n",
    "\n",
    "Context:\n",
    "{context}\n",
    "\"\"\"\n",
    "\n",
    "# Ask a question\n",
    "query = \"How do you typically organize your life and work?\"\n",
    "\n",
    "# Retrieve the relevant documents\n",
    "retriever = vector_store.as_retriever()\n",
    "\n",
    "# Format the documents\n",
    "def format_docs(docs):\n",
    "    return \"\\n\\n\".join(doc.page_content for doc in docs)\n",
    "\n",
    "prompt = ChatPromptTemplate.from_messages([(\"human\", message)])\n",
    "\n",
    "rag_chain = {\"context\": retriever | format_docs, \"question\": RunnablePassthrough()} | prompt | llm\n",
    "\n",
    "response = rag_chain.invoke(query)\n",
    "\n",
    "display(Markdown(response.content))"
   ]
  }
 ],
 "metadata": {
  "kernelspec": {
   "display_name": "Python 3 (ipykernel)",
   "language": "python",
   "name": "python3"
  },
  "language_info": {
   "codemirror_mode": {
    "name": "ipython",
    "version": 3
   },
   "file_extension": ".py",
   "mimetype": "text/x-python",
   "name": "python",
   "nbconvert_exporter": "python",
   "pygments_lexer": "ipython3",
   "version": "3.11.9"
  }
 },
 "nbformat": 4,
 "nbformat_minor": 2
}
