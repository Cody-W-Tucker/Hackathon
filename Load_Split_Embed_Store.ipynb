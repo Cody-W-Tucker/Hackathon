{
 "cells": [
  {
   "cell_type": "code",
   "execution_count": 6,
   "metadata": {},
   "outputs": [],
   "source": [
    "import os\n",
    "from dotenv import load_dotenv\n",
    "\n",
    "load_dotenv()\n",
    "\n",
    "# Load the API key from the .env file\n",
    "OPENAI_API_KEY = os.getenv(\"OPENAI_API_KEY\")\n",
    "\n",
    "from langchain_openai.embeddings import OpenAIEmbeddings\n",
    "embeddings = OpenAIEmbeddings(model=\"text-embedding-3-large\")\n"
   ]
  },
  {
   "cell_type": "code",
   "execution_count": 56,
   "metadata": {},
   "outputs": [
    {
     "name": "stdout",
     "output_type": "stream",
     "text": [
      "794 documents loaded with a total of 144,505 words.\n"
     ]
    }
   ],
   "source": [
    "from langchain_community.document_loaders import ObsidianLoader\n",
    "from langchain_experimental.text_splitter import SemanticChunker\n",
    "\n",
    "text_splitter = SemanticChunker(OpenAIEmbeddings(model=\"text-embedding-3-small\"))\n",
    "\n",
    "# Initialize the loader with the path to your Obsidian vault\n",
    "loader = ObsidianLoader(\"./data/Personal\")\n",
    "\n",
    "# Load the documents (this returns an iterator)\n",
    "docs = loader.load_and_split(text_splitter=text_splitter)\n",
    "\n",
    "# Calculate the number of words total for all documents\n",
    "total_words = sum(len(doc.page_content.split()) for doc in docs)\n",
    "\n",
    "# Print the number of documents and total words\n",
    "print(f\"{len(docs)} documents loaded with a total of {total_words:,} words.\")"
   ]
  },
  {
   "cell_type": "code",
   "execution_count": 7,
   "metadata": {},
   "outputs": [],
   "source": [
    "# Create a persistent chroma db to store the embeddings\n",
    "from langchain_chroma import Chroma\n",
    "\n",
    "vector_store = Chroma(\n",
    "    collection_name=\"obsidian\",\n",
    "    embedding_function=embeddings,\n",
    "    persist_directory=\"./chroma\",\n",
    ")\n",
    "\n",
    "# Embed the documents and store them in the chroma db\n",
    "vector_store.add_documents(docs)\n"
   ]
  }
 ],
 "metadata": {
  "kernelspec": {
   "display_name": "Python 3 (ipykernel)",
   "language": "python",
   "name": "python3"
  },
  "language_info": {
   "codemirror_mode": {
    "name": "ipython",
    "version": 3
   },
   "file_extension": ".py",
   "mimetype": "text/x-python",
   "name": "python",
   "nbconvert_exporter": "python",
   "pygments_lexer": "ipython3",
   "version": "3.11.9"
  }
 },
 "nbformat": 4,
 "nbformat_minor": 2
}
